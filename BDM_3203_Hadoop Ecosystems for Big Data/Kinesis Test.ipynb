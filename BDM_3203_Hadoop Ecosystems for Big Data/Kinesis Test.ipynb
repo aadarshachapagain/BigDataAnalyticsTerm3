{
 "cells": [
  {
   "cell_type": "code",
   "execution_count": 1,
   "id": "9dd167c2",
   "metadata": {},
   "outputs": [
    {
     "name": "stdout",
     "output_type": "stream",
     "text": [
      "Collecting awscli\n",
      "  Using cached awscli-1.25.76-py3-none-any.whl (3.9 MB)\n",
      "Collecting s3transfer<0.7.0,>=0.6.0\n",
      "  Using cached s3transfer-0.6.0-py3-none-any.whl (79 kB)\n",
      "Collecting colorama<0.4.5,>=0.2.5\n",
      "  Using cached colorama-0.4.4-py2.py3-none-any.whl (16 kB)\n",
      "Collecting PyYAML<5.5,>=3.10\n",
      "  Using cached PyYAML-5.4.1-cp39-cp39-win_amd64.whl (213 kB)\n",
      "Collecting rsa<4.8,>=3.1.2\n",
      "  Using cached rsa-4.7.2-py3-none-any.whl (34 kB)\n",
      "Collecting botocore==1.27.75\n",
      "  Using cached botocore-1.27.75-py3-none-any.whl (9.1 MB)\n",
      "Collecting docutils<0.17,>=0.10\n",
      "  Using cached docutils-0.16-py2.py3-none-any.whl (548 kB)\n",
      "Collecting python-dateutil<3.0.0,>=2.1\n",
      "  Using cached python_dateutil-2.8.2-py2.py3-none-any.whl (247 kB)\n",
      "Collecting jmespath<2.0.0,>=0.7.1\n",
      "  Using cached jmespath-1.0.1-py3-none-any.whl (20 kB)\n",
      "Collecting urllib3<1.27,>=1.25.4\n",
      "  Using cached urllib3-1.26.12-py2.py3-none-any.whl (140 kB)\n",
      "Collecting pyasn1>=0.1.3\n",
      "  Using cached pyasn1-0.4.8-py2.py3-none-any.whl (77 kB)\n",
      "Collecting six>=1.5\n",
      "  Using cached six-1.16.0-py2.py3-none-any.whl (11 kB)\n",
      "Installing collected packages: pyasn1, urllib3, six, rsa, PyYAML, jmespath, docutils, colorama, python-dateutil, botocore, s3transfer, awscli\n",
      "Successfully installed PyYAML-5.4.1 awscli-1.25.76 botocore-1.27.75 colorama-0.4.4 docutils-0.16 jmespath-1.0.1 pyasn1-0.4.8 python-dateutil-2.8.2 rsa-4.7.2 s3transfer-0.6.0 six-1.16.0 urllib3-1.26.12\n"
     ]
    }
   ],
   "source": [
    "!pip install awscli"
   ]
  },
  {
   "cell_type": "code",
   "execution_count": 2,
   "id": "423a0d79",
   "metadata": {},
   "outputs": [
    {
     "name": "stdout",
     "output_type": "stream",
     "text": [
      "Collecting aws\n",
      "  Using cached aws-0.2.5-py3-none-any.whl\n",
      "Collecting prettytable>=0.7\n",
      "  Using cached prettytable-3.4.1-py3-none-any.whl (26 kB)\n",
      "Collecting boto\n",
      "  Using cached boto-2.49.0-py2.py3-none-any.whl (1.4 MB)\n",
      "Collecting fabric>=1.6\n",
      "  Using cached fabric-2.7.1-py2.py3-none-any.whl (53 kB)\n",
      "Collecting paramiko>=2.4\n",
      "  Using cached paramiko-2.11.0-py2.py3-none-any.whl (212 kB)\n",
      "Collecting pathlib2\n",
      "  Using cached pathlib2-2.3.7.post1-py2.py3-none-any.whl (18 kB)\n",
      "Collecting invoke<2.0,>=1.3\n",
      "  Using cached invoke-1.7.1-py3-none-any.whl (215 kB)\n",
      "Collecting wcwidth\n",
      "  Using cached wcwidth-0.2.5-py2.py3-none-any.whl (30 kB)\n",
      "Collecting bcrypt>=3.1.3\n",
      "  Using cached bcrypt-4.0.0-cp36-abi3-win_amd64.whl (153 kB)\n",
      "Collecting cryptography>=2.5\n",
      "  Using cached cryptography-38.0.1-cp36-abi3-win_amd64.whl (2.4 MB)\n",
      "Collecting pynacl>=1.0.1\n",
      "  Using cached PyNaCl-1.5.0-cp36-abi3-win_amd64.whl (212 kB)\n",
      "Requirement already satisfied: six in s:\\anaconda\\envs\\bd_eco_env\\lib\\site-packages (from paramiko>=2.4->fabric>=1.6->aws) (1.16.0)\n",
      "Collecting cffi>=1.12\n",
      "  Using cached cffi-1.15.1-cp39-cp39-win_amd64.whl (179 kB)\n",
      "Collecting pycparser\n",
      "  Using cached pycparser-2.21-py2.py3-none-any.whl (118 kB)\n",
      "Installing collected packages: wcwidth, invoke, boto, pycparser, prettytable, pathlib2, bcrypt, cffi, pynacl, cryptography, paramiko, fabric, aws\n",
      "Successfully installed aws-0.2.5 bcrypt-4.0.0 boto-2.49.0 cffi-1.15.1 cryptography-38.0.1 fabric-2.7.1 invoke-1.7.1 paramiko-2.11.0 pathlib2-2.3.7.post1 prettytable-3.4.1 pycparser-2.21 pynacl-1.5.0 wcwidth-0.2.5\n"
     ]
    }
   ],
   "source": [
    "!pip install aws\n"
   ]
  },
  {
   "cell_type": "code",
   "execution_count": 12,
   "id": "328ec46c",
   "metadata": {},
   "outputs": [],
   "source": [
    "stream_name = 'blogpost-word-stream'\n",
    "region = 'eu-west-1'\n",
    "aws_profile = 'blogpost-kinesis'"
   ]
  },
  {
   "cell_type": "code",
   "execution_count": 4,
   "id": "57344291",
   "metadata": {},
   "outputs": [
    {
     "name": "stdout",
     "output_type": "stream",
     "text": [
      "aws==0.2.5\n",
      "awscli==1.25.76\n",
      "bcrypt==4.0.0\n",
      "boto==2.49.0\n",
      "botocore==1.27.75\n",
      "certifi @ file:///C:/Windows/TEMP/abs_e9b7158a-aa56-4a5b-87b6-c00d295b01fanefpc8_o/croots/recipe/certifi_1655968940823/work/certifi\n",
      "cffi==1.15.1\n",
      "colorama==0.4.4\n",
      "cryptography==38.0.1\n",
      "docutils==0.16\n",
      "fabric==2.7.1\n",
      "invoke==1.7.1\n",
      "jmespath==1.0.1\n",
      "paramiko==2.11.0\n",
      "pathlib2==2.3.7.post1\n",
      "prettytable==3.4.1\n",
      "pyasn1==0.4.8\n",
      "pycparser==2.21\n",
      "PyNaCl==1.5.0\n",
      "python-dateutil==2.8.2\n",
      "PyYAML==5.4.1\n",
      "rsa==4.7.2\n",
      "s3transfer==0.6.0\n",
      "six==1.16.0\n",
      "urllib3==1.26.12\n",
      "wcwidth==0.2.5\n",
      "wincertstore==0.2\n"
     ]
    }
   ],
   "source": [
    "!pip freeze "
   ]
  },
  {
   "cell_type": "code",
   "execution_count": 28,
   "id": "3e84ea22",
   "metadata": {},
   "outputs": [],
   "source": [
    "import boto3\n",
    "from boto.kinesis.exceptions import ResourceInUseException\n",
    "import os\n",
    "import time\n",
    "\n",
    "if aws_profile:\n",
    "    os.environ['AWS_PROFILE'] = aws_profile\n",
    "\n",
    "# connect to the kinesis\n",
    "# kinesis = boto.kinesis.connect_to_region(region)\n",
    "kinesis = boto3.client('kinesis',\n",
    "                      aws_access_key_id='qqqqq',\n",
    "                      aws_secret_access_key='qqrrrrrrrrtttt'\n",
    "                      )\n",
    "\n",
    "def get_status():\n",
    "    r = kinesis.describe_stream(StreamName=stream_name)\n",
    "    description = r.get('StreamDescription')\n",
    "    status = description.get('StreamStatus')\n",
    "    return status\n",
    "\n",
    "def create_stream(stream_name):\n",
    "    try:\n",
    "        # create the stream\n",
    "        kinesis.create_stream(StreamName=stream_name, ShardCount=1)\n",
    "        print('stream {} created in region {}'.format(stream_name, region))\n",
    "    except ResourceInUseException:\n",
    "        print('stream {} already exists in region {}'.format(stream_name, region))\n",
    "\n",
    "\n",
    "    # wait for the stream to become active\n",
    "    while get_status() != 'ACTIVE':\n",
    "        time.sleep(1)\n",
    "    print('stream {} is active'.format(stream_name))"
   ]
  },
  {
   "cell_type": "code",
   "execution_count": 29,
   "id": "f65ee006",
   "metadata": {},
   "outputs": [
    {
     "name": "stdout",
     "output_type": "stream",
     "text": [
      "stream blogpost-word-stream created in region eu-west-1\n",
      "stream blogpost-word-stream is active\n"
     ]
    }
   ],
   "source": [
    "create_stream(stream_name)"
   ]
  },
  {
   "cell_type": "code",
   "execution_count": 34,
   "id": "2b21e8fd",
   "metadata": {},
   "outputs": [],
   "source": [
    "import datetime\n",
    "import time\n",
    "import threading\n",
    "from boto.kinesis.exceptions import ResourceNotFoundException\n",
    "\n",
    "class KinesisProducer(threading.Thread):\n",
    "    \"\"\"Producer class for AWS Kinesis streams\n",
    "\n",
    "    This class will emit records with the IP addresses as partition key and\n",
    "    the emission timestamps as data\"\"\"\n",
    "\n",
    "    def __init__(self, stream_name, sleep_interval=None, ip_addr='8.8.8.8'):\n",
    "        self.stream_name = stream_name\n",
    "        self.sleep_interval = sleep_interval\n",
    "        self.ip_addr = ip_addr\n",
    "        super().__init__()\n",
    "\n",
    "    def put_record(self):\n",
    "        \"\"\"put a single record to the stream\"\"\"\n",
    "        timestamp = datetime.datetime.utcnow()\n",
    "        part_key = self.ip_addr\n",
    "        data = timestamp.isoformat()\n",
    "\n",
    "        kinesis.put_record(StreamName=self.stream_name, PartitionKey=part_key,Data=data)\n",
    "\n",
    "    def run_continously(self):\n",
    "        \"\"\"put a record at regular intervals\"\"\"\n",
    "        while True:\n",
    "            self.put_record()\n",
    "            time.sleep(self.sleep_interval)\n",
    "\n",
    "    def run(self):\n",
    "        \"\"\"run the producer\"\"\"\n",
    "        try:\n",
    "            if self.sleep_interval:\n",
    "                self.run_continously()\n",
    "            else:\n",
    "                self.put_record()\n",
    "        except ResourceNotFoundException:\n",
    "            print('stream {} not found. Exiting'.format(self.stream_name))"
   ]
  },
  {
   "cell_type": "code",
   "execution_count": 35,
   "id": "018fa742",
   "metadata": {},
   "outputs": [],
   "source": [
    "producer1 = KinesisProducer(stream_name, sleep_interval=2, ip_addr='8.8.8.8')\n",
    "producer2 = KinesisProducer(stream_name, sleep_interval=5, ip_addr='8.8.8.9')\n",
    "producer1.start()\n",
    "producer2.start()"
   ]
  },
  {
   "cell_type": "code",
   "execution_count": 44,
   "id": "39b71316",
   "metadata": {},
   "outputs": [],
   "source": [
    "from boto.kinesis.exceptions import ProvisionedThroughputExceededException\n",
    "import datetime\n",
    "\n",
    "class KinesisConsumer:\n",
    "    \"\"\"Generic Consumer for Amazon Kinesis Streams\"\"\"\n",
    "    def __init__(self, stream_name, shard_id, iterator_type,\n",
    "                 worker_time=30, sleep_interval=0.5):\n",
    "\n",
    "        self.stream_name = stream_name\n",
    "        self.shard_id = str(shard_id)\n",
    "        self.iterator_type = iterator_type\n",
    "        self.worker_time = worker_time\n",
    "        self.sleep_interval = sleep_interval\n",
    "\n",
    "    def process_records(self, records):\n",
    "        \"\"\"the main logic of the Consumer that needs to be implemented\"\"\"\n",
    "        raise NotImplementedError\n",
    "\n",
    "    @staticmethod\n",
    "    def iter_records(records):\n",
    "        for record in records:\n",
    "            part_key = record['PartitionKey']\n",
    "            data = record['Data']\n",
    "            yield part_key, data\n",
    "\n",
    "    def run(self):\n",
    "        \"\"\"poll stream for new records and pass them to process_records method\"\"\"\n",
    "        response = kinesis.get_shard_iterator(StreamName=self.stream_name,\n",
    "            ShardId=self.shard_id, ShardIteratorType=self.iterator_type)\n",
    "\n",
    "        next_iterator = response['ShardIterator']\n",
    "\n",
    "        start = datetime.datetime.now()\n",
    "        finish = start + datetime.timedelta(seconds=self.worker_time)\n",
    "\n",
    "        while finish > datetime.datetime.now():\n",
    "            try:\n",
    "                response = kinesis.get_records(ShardIterator=next_iterator, Limit=25)\n",
    "\n",
    "                records = response['Records']\n",
    "\n",
    "                if records:\n",
    "                    self.process_records(records)\n",
    "\n",
    "                next_iterator = response['NextShardIterator']\n",
    "                time.sleep(self.sleep_interval)\n",
    "            except ProvisionedThroughputExceededException as ptee:\n",
    "                time.sleep(1)"
   ]
  },
  {
   "cell_type": "code",
   "execution_count": 45,
   "id": "3da67884",
   "metadata": {},
   "outputs": [],
   "source": [
    "class EchoConsumer(KinesisConsumer):\n",
    "    \"\"\"Consumers that echos received data to standard output\"\"\"\n",
    "    def process_records(self, records):\n",
    "        \"\"\"print the partion key and data of each incoming record\"\"\"\n",
    "        for part_key, data in self.iter_records(records):\n",
    "            print(part_key, \":\", data)"
   ]
  },
  {
   "cell_type": "code",
   "execution_count": 46,
   "id": "30a458cc",
   "metadata": {},
   "outputs": [],
   "source": [
    "shard_id = 'shardId-000000000000'\n",
    "iterator_type = 'LATEST'\n",
    "worker = EchoConsumer(stream_name, shard_id, iterator_type, worker_time=10)"
   ]
  },
  {
   "cell_type": "code",
   "execution_count": 47,
   "id": "fc8cf3fa",
   "metadata": {},
   "outputs": [
    {
     "name": "stdout",
     "output_type": "stream",
     "text": [
      "8.8.8.8 : b'2022-09-18T20:48:10.550973'\n",
      "8.8.8.8 : b'2022-09-18T20:48:12.668722'\n",
      "8.8.8.9 : b'2022-09-18T20:48:12.793771'\n",
      "8.8.8.8 : b'2022-09-18T20:48:14.789496'\n",
      "8.8.8.8 : b'2022-09-18T20:48:16.915309'\n",
      "8.8.8.9 : b'2022-09-18T20:48:17.918172'\n",
      "8.8.8.8 : b'2022-09-18T20:48:19.039138'\n"
     ]
    }
   ],
   "source": [
    "worker.run()"
   ]
  },
  {
   "cell_type": "code",
   "execution_count": 48,
   "id": "292faebf",
   "metadata": {},
   "outputs": [
    {
     "data": {
      "text/plain": [
       "{'ResponseMetadata': {'RequestId': 'e8704b3a-0048-b62a-b3d1-cdbb5fbda437',\n",
       "  'HTTPStatusCode': 200,\n",
       "  'HTTPHeaders': {'x-amzn-requestid': 'e8704b3a-0048-b62a-b3d1-cdbb5fbda437',\n",
       "   'x-amz-id-2': 'XKQTxTpdJsLhjcav1EKUhRKwZ1JErM5UBBrAM2bLwcWzE6gXUq+cO4YE0a8qu916RGBeZM5AYvWiFj0b2f7aMblOY4ddcJCS',\n",
       "   'date': 'Sun, 18 Sep 2022 20:49:05 GMT',\n",
       "   'content-type': 'application/x-amz-json-1.1',\n",
       "   'content-length': '0'},\n",
       "  'RetryAttempts': 0}}"
      ]
     },
     "execution_count": 48,
     "metadata": {},
     "output_type": "execute_result"
    },
    {
     "name": "stderr",
     "output_type": "stream",
     "text": [
      "Exception in thread Thread-15:\n",
      "Traceback (most recent call last):\n",
      "  File \"S:\\anaconda\\lib\\threading.py\", line 973, in _bootstrap_inner\n",
      "    self.run()\n",
      "  File \"C:\\Users\\aadar\\AppData\\Local\\Temp\\ipykernel_20988\\2317068655.py\", line 36, in run\n",
      "  File \"C:\\Users\\aadar\\AppData\\Local\\Temp\\ipykernel_20988\\2317068655.py\", line 29, in run_continously\n",
      "  File \"C:\\Users\\aadar\\AppData\\Local\\Temp\\ipykernel_20988\\2317068655.py\", line 24, in put_record\n",
      "  File \"S:\\anaconda\\lib\\site-packages\\botocore\\client.py\", line 401, in _api_call\n",
      "    return self._make_api_call(operation_name, kwargs)\n",
      "  File \"S:\\anaconda\\lib\\site-packages\\botocore\\client.py\", line 731, in _make_api_call\n",
      "    raise error_class(parsed_response, operation_name)\n",
      "botocore.errorfactory.ResourceNotFoundException: An error occurred (ResourceNotFoundException) when calling the PutRecord operation: Stream blogpost-word-stream under account 284677672991 not found.\n",
      "Exception in thread Thread-16:\n",
      "Traceback (most recent call last):\n",
      "  File \"S:\\anaconda\\lib\\threading.py\", line 973, in _bootstrap_inner\n",
      "    self.run()\n",
      "  File \"C:\\Users\\aadar\\AppData\\Local\\Temp\\ipykernel_20988\\2317068655.py\", line 36, in run\n",
      "  File \"C:\\Users\\aadar\\AppData\\Local\\Temp\\ipykernel_20988\\2317068655.py\", line 29, in run_continously\n",
      "  File \"C:\\Users\\aadar\\AppData\\Local\\Temp\\ipykernel_20988\\2317068655.py\", line 24, in put_record\n",
      "  File \"S:\\anaconda\\lib\\site-packages\\botocore\\client.py\", line 401, in _api_call\n",
      "    return self._make_api_call(operation_name, kwargs)\n",
      "  File \"S:\\anaconda\\lib\\site-packages\\botocore\\client.py\", line 731, in _make_api_call\n",
      "    raise error_class(parsed_response, operation_name)\n",
      "botocore.errorfactory.ResourceNotFoundException: An error occurred (ResourceNotFoundException) when calling the PutRecord operation: Stream blogpost-word-stream under account 284677672991 not found.\n"
     ]
    }
   ],
   "source": [
    "kinesis.delete_stream(StreamName=stream_name)"
   ]
  },
  {
   "cell_type": "code",
   "execution_count": null,
   "id": "9299dd74",
   "metadata": {},
   "outputs": [],
   "source": []
  }
 ],
 "metadata": {
  "kernelspec": {
   "display_name": "Python 3 (ipykernel)",
   "language": "python",
   "name": "python3"
  },
  "language_info": {
   "codemirror_mode": {
    "name": "ipython",
    "version": 3
   },
   "file_extension": ".py",
   "mimetype": "text/x-python",
   "name": "python",
   "nbconvert_exporter": "python",
   "pygments_lexer": "ipython3",
   "version": "3.9.12"
  }
 },
 "nbformat": 4,
 "nbformat_minor": 5
}
